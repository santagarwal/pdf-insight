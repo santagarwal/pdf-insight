{
 "cells": [
  {
   "cell_type": "markdown",
   "metadata": {},
   "source": [
    "# PDF Question-Answering Pipeline (Jupyter Version)\n",
    "---\n",
    "- Place your PDFs in the `pdfs/` folder.\n",
    "- Make sure Milvus is running via Docker Compose.\n",
    "- Fill in your `.env` with OpenAI API key, Milvus host/port.\n",
    "- Install requirements: `pip install -r requirements.txt`\n"
   ]
  },
  {
   "cell_type": "code",
   "metadata": {},
   "source": [
    "import os\n",
    "import glob\n",
    "import fitz  # PyMuPDF\n",
    "from dotenv import load_dotenv\n",
    "from langchain.text_splitter import CharacterTextSplitter\n",
    "from langchain.embeddings import OpenAIEmbeddings\n",
    "from langchain.vectorstores import Milvus\n",
    "from langchain.llms import OpenAI\n",
    "from langchain.chains import RetrievalQA\n"
   ]
  },
  {
   "cell_type": "code",
   "metadata": {},
   "source": [
    "# Load environment variables\n",
    "load_dotenv()\n",
    "OPENAI_API_KEY = os.getenv(\"OPENAI_API_KEY\")\n",
    "MILVUS_HOST = os.getenv(\"MILVUS_HOST\", \"localhost\")\n",
    "MILVUS_PORT = os.getenv(\"MILVUS_PORT\", \"19530\")\n",
    "PDF_DIR = 'pdfs'\n",
    "COLLECTION_NAME = 'pdf_qa_collection'\n"
   ]
  },
  {
   "cell_type": "code",
   "metadata": {},
   "source": [
    "def read_pdfs(pdf_dir):\n",
    "    docs = []\n",
    "    for pdf_path in glob.glob(os.path.join(pdf_dir, '*.pdf')):\n",
    "        doc = fitz.open(pdf_path)\n",
    "        text = '\\n'.join(page.get_text() for page in doc)\n",
    "        docs.append({'filename': os.path.basename(pdf_path), 'text': text})\n",
    "    return docs\n"
   ]
  },
  {
   "cell_type": "code",
   "metadata": {},
   "source": [
    "def chunk_documents(docs, chunk_size=800, chunk_overlap=50):\n",
    "    splitter = CharacterTextSplitter(chunk_size=chunk_size, chunk_overlap=chunk_overlap)\n",
    "    chunks = []\n",
    "    for doc in docs:\n",
    "        for chunk in splitter.split_text(doc['text']):\n",
    "            chunks.append({'filename': doc['filename'], 'text': chunk})\n",
    "    return chunks\n"
   ]
  },
  {
   "cell_type": "code",
   "metadata": {},
   "source": [
    "def embed_and_store(chunks):\n",
    "    texts = [chunk['text'] for chunk in chunks]\n",
    "    metadatas = [{'filename': chunk['filename']} for chunk in chunks]\n",
    "    embeddings = OpenAIEmbeddings(openai_api_key=OPENAI_API_KEY)\n",
    "    vectorstore = Milvus.from_texts(\n",
    "        texts,\n",
    "        embedding=embeddings,\n",
    "        collection_name=COLLECTION_NAME,\n",
    "        connection_args={'host': MILVUS_HOST, 'port': MILVUS_PORT},\n",
    "        metadatas=metadatas,\n",
    "    )\n",
    "    return vectorstore\n"
   ]
  },
  {
   "cell_type": "code",
   "metadata": {},
   "source": [
    "def get_qa_chain(vectorstore):\n",
    "    retriever = vectorstore.as_retriever()\n",
    "    llm = OpenAI(openai_api_key=OPENAI_API_KEY)\n",
    "    qa = RetrievalQA.from_chain_type(llm=llm, retriever=retriever, chain_type='stuff')\n",
    "    return qa\n"
   ]
  },
  {
   "cell_type": "code",
   "metadata": {},
   "source": [
    "def ask_question(question, qa_chain):\n",
    "    return qa_chain.run(question)\n"
   ]
  },
  {
   "cell_type": "markdown",
   "metadata": {},
   "source": [
    "## Run the pipeline\n"
   ]
  },
  {
   "cell_type": "code",
   "metadata": {},
   "source": [
    "docs = read_pdfs(PDF_DIR)\n",
    "print(f'Loaded {len(docs)} PDFs.')\n",
    "chunks = chunk_documents(docs)\n",
    "print(f'Generated {len(chunks)} chunks.')\n",
    "vectorstore = embed_and_store(chunks)\n",
    "print('Ready for questions!')\n",
    "qa_chain = get_qa_chain(vectorstore)\n"
   ]
  },
  {
   "cell_type": "code",
   "metadata": {},
   "source": [
    "# Example: ask a question\n",
    "question = 'Summarize the main topic of the PDFs.'\n",
    "answer = ask_question(question, qa_chain)\n",
    "print('Answer:', answer)\n"
   ]
  }
 ],
 "metadata": {
  "kernelspec": {
   "display_name": "Python 3",
   "language": "python",
   "name": "python3"
  },
  "language_info": {
   "name": "python",
   "version": "3.10"
  }
 },
 "nbformat": 4,
 "nbformat_minor": 4
}
