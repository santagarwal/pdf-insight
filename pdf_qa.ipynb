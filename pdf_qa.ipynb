# PDF Question-Answering Pipeline (Jupyter Version)
---
- Place your PDFs in the `pdfs/` folder.
- Make sure Milvus is running via Docker Compose.
- Fill in your `.env` with OpenAI API key, Milvus host/port.
- Install requirements: `pip install -r requirements.txt`
